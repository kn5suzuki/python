{
 "cells": [
  {
   "cell_type": "markdown",
   "metadata": {},
   "source": [
    "## heapq"
   ]
  },
  {
   "cell_type": "code",
   "execution_count": null,
   "metadata": {},
   "outputs": [],
   "source": [
    "import heapq"
   ]
  },
  {
   "cell_type": "code",
   "execution_count": null,
   "metadata": {},
   "outputs": [
    {
     "data": {
      "text/plain": [
       "[0, 1, 3, 2]"
      ]
     },
     "metadata": {},
     "output_type": "display_data"
    }
   ],
   "source": [
    "heap = []\n",
    "heapq.heappush(heap, 1)\n",
    "heapq.heappush(heap, 2)\n",
    "heapq.heappush(heap, 3)\n",
    "heapq.heappush(heap, 0)\n",
    "heap"
   ]
  },
  {
   "cell_type": "code",
   "execution_count": null,
   "metadata": {},
   "outputs": [
    {
     "name": "stdout",
     "output_type": "stream",
     "text": [
      "0 [1, 2, 3]\n"
     ]
    }
   ],
   "source": [
    "a = heapq.heappop(heap)\n",
    "print(a, heap)"
   ]
  }
 ],
 "metadata": {
  "kernelspec": {
   "display_name": "Python 3.9.6 64-bit ('3.9.6')",
   "language": "python",
   "name": "python3"
  },
  "language_info": {
   "name": "python",
   "version": "3.9.6"
  },
  "orig_nbformat": 4,
  "vscode": {
   "interpreter": {
    "hash": "88d8153ea55c657c54a1263917839600f0a0a81b8d33474af4c72f2286c2229e"
   }
  }
 },
 "nbformat": 4,
 "nbformat_minor": 2
}
