{
 "cells": [
  {
   "cell_type": "markdown",
   "metadata": {},
   "source": [
    "# multiprocessing"
   ]
  },
  {
   "cell_type": "code",
   "execution_count": 1,
   "metadata": {},
   "outputs": [],
   "source": [
    "import multiprocessing as mp"
   ]
  },
  {
   "cell_type": "markdown",
   "metadata": {},
   "source": [
    "※以下はjupyter-notebook上では動かない"
   ]
  },
  {
   "cell_type": "code",
   "execution_count": null,
   "metadata": {},
   "outputs": [],
   "source": [
    "import time\n",
    "\n",
    "def f():\n",
    "    time.sleep(1)\n",
    "    print('slept in thread')\n",
    "\n",
    "if __name__ == \"__main__\":\n",
    "    process = mp.Process(target=f)\n",
    "    process.start()\n",
    "    print('outside')\n",
    "    process.join()\n",
    "    print('waited outside')"
   ]
  },
  {
   "cell_type": "code",
   "execution_count": null,
   "metadata": {},
   "outputs": [],
   "source": [
    "def f(word):\n",
    "    time.sleep(1)\n",
    "    print(f'{word} in thread')\n",
    "\n",
    "if __name__ == \"__main__\":\n",
    "    process = mp.Process(target=f, args=('hello'))\n",
    "    process.start()\n",
    "    print('outside')\n",
    "    process.join()\n",
    "    print('wait outside')"
   ]
  },
  {
   "cell_type": "markdown",
   "metadata": {},
   "source": [
    "- プロセスを止める"
   ]
  },
  {
   "cell_type": "code",
   "execution_count": null,
   "metadata": {},
   "outputs": [],
   "source": [
    "import time\n",
    "def f():\n",
    "    while 1:\n",
    "        time.sleep(0.5)\n",
    "        print('thread alive')\n",
    "\n",
    "if __name__ == \"__main__\":\n",
    "    process = mp.Process(target=f)\n",
    "    process.start()\n",
    "    time.sleep(2)\n",
    "    process.kill()\n",
    "    process.join()\n",
    "    print(process.is_alive())  #死んでいればFalseが帰ってくるはず\n",
    "    print('end')"
   ]
  },
  {
   "cell_type": "markdown",
   "metadata": {},
   "source": [
    "## 共有メモリ"
   ]
  },
  {
   "cell_type": "code",
   "execution_count": null,
   "metadata": {},
   "outputs": [],
   "source": [
    "import time\n",
    "\n",
    "# 生産プロセス\n",
    "def produce(value):\n",
    "  for i in range(10):\n",
    "    value.value = i\n",
    "    time.sleep(0.5)\n",
    "\n",
    "# 消費プロセス\n",
    "def consume(value):\n",
    "  for i in range(10):\n",
    "    n = value.value\n",
    "    print(n)\n",
    "    time.sleep(0.5)\n",
    "\n",
    "if __name__ == '__main__':\n",
    "  value = mp.Value('i', 0)  \n",
    "  p = mp.Process(target=produce, args=(value,))\n",
    "  c = mp.Process(target=consume, args=(value,))\n",
    "  p.start()\n",
    "  c.start()\n",
    "  p.join()\n",
    "  c.join()\n",
    "  print('end')"
   ]
  },
  {
   "cell_type": "code",
   "execution_count": null,
   "metadata": {},
   "outputs": [],
   "source": [
    "import time\n",
    "\n",
    "# 生産プロセス\n",
    "def produce(queue):\n",
    "  for i in range(10):\n",
    "    queue.put(i)\n",
    "    time.sleep(0.5)\n",
    "\n",
    "# 消費プロセス\n",
    "def consume(queue):\n",
    "  for i in range(10):\n",
    "    n = queue.get()\n",
    "    print(n)\n",
    "    time.sleep(0.5)\n",
    "\n",
    "if __name__ == '__main__':\n",
    "  queue = mp.Queue()  \n",
    "  p = mp.Process(target=produce, args=(queue,))\n",
    "  c = mp.Process(target=consume, args=(queue,))\n",
    "  p.start()\n",
    "  c.start()\n",
    "  p.join()\n",
    "  c.join()\n",
    "  print('end')"
   ]
  },
  {
   "cell_type": "code",
   "execution_count": null,
   "metadata": {},
   "outputs": [],
   "source": []
  }
 ],
 "metadata": {
  "kernelspec": {
   "display_name": "Python 3.9.6 64-bit ('3.9.6')",
   "language": "python",
   "name": "python3"
  },
  "language_info": {
   "codemirror_mode": {
    "name": "ipython",
    "version": 3
   },
   "file_extension": ".py",
   "mimetype": "text/x-python",
   "name": "python",
   "nbconvert_exporter": "python",
   "pygments_lexer": "ipython3",
   "version": "3.9.6"
  },
  "orig_nbformat": 4,
  "vscode": {
   "interpreter": {
    "hash": "88d8153ea55c657c54a1263917839600f0a0a81b8d33474af4c72f2286c2229e"
   }
  }
 },
 "nbformat": 4,
 "nbformat_minor": 2
}
