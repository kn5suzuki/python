{
 "cells": [
  {
   "cell_type": "markdown",
   "metadata": {},
   "source": [
    "# Scikit-learn\n",
    "- 機械学習"
   ]
  },
  {
   "cell_type": "code",
   "execution_count": 1,
   "metadata": {},
   "outputs": [],
   "source": [
    "import sklearn"
   ]
  },
  {
   "cell_type": "markdown",
   "metadata": {},
   "source": [
    "## 線形回帰"
   ]
  },
  {
   "cell_type": "code",
   "execution_count": 6,
   "metadata": {},
   "outputs": [
    {
     "name": "stdout",
     "output_type": "stream",
     "text": [
      "[2.02656234] 0.5045166767515923\n"
     ]
    }
   ],
   "source": [
    "from sklearn.linear_model import LinearRegression\n",
    "import numpy as np\n",
    "lr = LinearRegression()\n",
    "x = np.array([[i] for i in range(10)])  #説明変数は複数にも対応できるようにリストにする\n",
    "y = np.array([2*i for i in range(10)]) + np.random.rand(10)\n",
    "lr.fit(x, y)\n",
    "print(lr.coef_, lr.intercept_)"
   ]
  },
  {
   "cell_type": "code",
   "execution_count": 7,
   "metadata": {},
   "outputs": [
    {
     "data": {
      "text/plain": [
       "array([ 0.50451668,  2.53107902,  4.55764135,  6.58420369,  8.61076603,\n",
       "       10.63732837, 12.66389071, 14.69045305, 16.71701539, 18.74357773])"
      ]
     },
     "execution_count": 7,
     "metadata": {},
     "output_type": "execute_result"
    }
   ],
   "source": [
    "lr.predict(x)"
   ]
  },
  {
   "cell_type": "markdown",
   "metadata": {},
   "source": [
    "## 非線形回帰"
   ]
  },
  {
   "cell_type": "code",
   "execution_count": 10,
   "metadata": {},
   "outputs": [
    {
     "name": "stdout",
     "output_type": "stream",
     "text": [
      "KernelRidge(alpha=0.0002, kernel='rbf')\n"
     ]
    }
   ],
   "source": [
    "from sklearn.kernel_ridge import KernelRidge\n",
    "import numpy as np\n",
    "clf = KernelRidge(alpha=0.0002, kernel='rbf')  #カーネルはガウスカーネル\n",
    "x = np.array([[i] for i in range(10)])  #説明変数は複数にも対応できるようにリストにする\n",
    "y = np.array([i**2 for i in range(10)]) + np.random.rand(10)\n",
    "clf.fit(x, y)\n",
    "print(clf)"
   ]
  },
  {
   "cell_type": "code",
   "execution_count": 11,
   "metadata": {},
   "outputs": [
    {
     "data": {
      "text/plain": [
       "array([ 0.46254224,  1.38355992,  4.72185344,  9.80092252, 16.57459772,\n",
       "       25.08507706, 36.82928692, 49.92952615, 64.47070559, 81.06840589])"
      ]
     },
     "execution_count": 11,
     "metadata": {},
     "output_type": "execute_result"
    }
   ],
   "source": [
    "clf.predict(x)"
   ]
  },
  {
   "cell_type": "code",
   "execution_count": null,
   "metadata": {},
   "outputs": [],
   "source": []
  }
 ],
 "metadata": {
  "kernelspec": {
   "display_name": "Python 3.9.6 64-bit ('3.9.6')",
   "language": "python",
   "name": "python3"
  },
  "language_info": {
   "codemirror_mode": {
    "name": "ipython",
    "version": 3
   },
   "file_extension": ".py",
   "mimetype": "text/x-python",
   "name": "python",
   "nbconvert_exporter": "python",
   "pygments_lexer": "ipython3",
   "version": "3.9.6"
  },
  "orig_nbformat": 4,
  "vscode": {
   "interpreter": {
    "hash": "88d8153ea55c657c54a1263917839600f0a0a81b8d33474af4c72f2286c2229e"
   }
  }
 },
 "nbformat": 4,
 "nbformat_minor": 2
}
