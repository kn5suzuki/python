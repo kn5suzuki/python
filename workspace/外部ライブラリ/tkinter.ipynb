{
 "cells": [
  {
   "cell_type": "markdown",
   "metadata": {},
   "source": [
    "## 4. Tkinter\n",
    "- GUIライブラリ\n",
    "- スクリプト言語TclやそのツールTkを扱える"
   ]
  },
  {
   "cell_type": "code",
   "execution_count": 1,
   "metadata": {},
   "outputs": [],
   "source": [
    "import tkinter"
   ]
  },
  {
   "cell_type": "markdown",
   "metadata": {},
   "source": [
    "### 4.1. mainloop\n",
    "- ループ処理を行うメソッド。具体的には待機とイベントの処理\n",
    "- イベントにあたるのはマウスのクリック、移動、キーボードの入力、ウェイジェットの作成・配置・設定変更\n",
    "- 引数は **(n=0)** "
   ]
  },
  {
   "cell_type": "markdown",
   "metadata": {},
   "source": [
    "### 4.3. Tk()\n",
    "- メインウィンドウの作成"
   ]
  },
  {
   "cell_type": "code",
   "execution_count": 2,
   "metadata": {},
   "outputs": [],
   "source": [
    "window = tkinter.Tk()\n",
    "window.mainloop()"
   ]
  },
  {
   "cell_type": "markdown",
   "metadata": {},
   "source": [
    "### 4.3.2. title, geometry\n",
    "- メインウィンドウに作用させて、それぞれ文字列でメインウィンドウのタイトルとサイゼを設定する"
   ]
  },
  {
   "cell_type": "code",
   "execution_count": 4,
   "metadata": {},
   "outputs": [],
   "source": [
    "window = tkinter.Tk()\n",
    "window.title('Sample')\n",
    "window.geometry('480x480')\n",
    "window.mainloop()"
   ]
  },
  {
   "cell_type": "markdown",
   "metadata": {},
   "source": [
    "### 4.4. Label()\n",
    "- 引数は **(text=文字列)** "
   ]
  },
  {
   "cell_type": "markdown",
   "metadata": {},
   "source": [
    "### 4.4.2. pack, place\n",
    "- packはラベルを画面内に表示する\n",
    "- placeは引数が **(x, y)** でラベルの位置を指定できる\n",
    "- この後のオブジェクトにも使える"
   ]
  },
  {
   "cell_type": "code",
   "execution_count": 6,
   "metadata": {},
   "outputs": [],
   "source": [
    "window = tkinter.Tk()\n",
    "window.title('Sample')\n",
    "window.geometry('480x480')\n",
    "label = tkinter.Label(text = 'sample')\n",
    "label.pack()\n",
    "window.mainloop()"
   ]
  },
  {
   "cell_type": "code",
   "execution_count": 7,
   "metadata": {},
   "outputs": [],
   "source": [
    "window = tkinter.Tk()\n",
    "window.title('Sample')\n",
    "window.geometry('480x480')\n",
    "label = tkinter.Label(text = 'sample')\n",
    "label.place(x = 100, y = 200)\n",
    "window.mainloop()"
   ]
  },
  {
   "cell_type": "markdown",
   "metadata": {},
   "source": [
    "### 4.5. Entry\n",
    "- 入力ボックスを作成する\n",
    "- 引数は **(width)** "
   ]
  },
  {
   "cell_type": "code",
   "execution_count": 9,
   "metadata": {},
   "outputs": [],
   "source": [
    "window = tkinter.Tk()\n",
    "window.title('Sample')\n",
    "window.geometry('480x480')\n",
    "entry = tkinter.Entry(width = 60)\n",
    "entry.pack()\n",
    "window.mainloop()"
   ]
  },
  {
   "cell_type": "markdown",
   "metadata": {},
   "source": [
    "### 4.6. Button\n",
    "- ボタンを作成する\n",
    "- 引数は **(text, width)**"
   ]
  },
  {
   "cell_type": "code",
   "execution_count": 10,
   "metadata": {},
   "outputs": [],
   "source": [
    "window = tkinter.Tk()\n",
    "window.title('Sample')\n",
    "window.geometry('480x480')\n",
    "button = tkinter.Button(text='Sample', width=20)\n",
    "button.pack()\n",
    "window.mainloop()"
   ]
  },
  {
   "cell_type": "markdown",
   "metadata": {},
   "source": [
    "### 4.6.2. bind\n",
    "- ボタンが押された時のアクションを指定する\n",
    "- 引数は **(クリック番号, 関数名またはアクション)** 。クリック番号は **'< Button-1 >'(クリック)、'< Button-2 >'(ホイールクリック)、'< Button-3 >'(右クリック)**。"
   ]
  },
  {
   "cell_type": "code",
   "execution_count": 18,
   "metadata": {},
   "outputs": [],
   "source": [
    "def hello(event):\n",
    "    tkinter.messagebox.showinfo('Hello', 'Hello Tkinter')\n",
    "    \n",
    "window = tkinter.Tk()\n",
    "window.title('Sample')\n",
    "window.geometry('480x480')\n",
    "button = tkinter.Button(text='Sample', width=20)\n",
    "button.pack()\n",
    "button.bind('<Button-1>', hello)\n",
    "window.mainloop()"
   ]
  },
  {
   "cell_type": "markdown",
   "metadata": {},
   "source": [
    "### 4.7. Checkbutton\n",
    "- チェックボックスを作成する\n",
    "- 引数は **(text, variable)** 。variableはチェック判定用の変数"
   ]
  },
  {
   "cell_type": "code",
   "execution_count": 19,
   "metadata": {},
   "outputs": [],
   "source": [
    "window = tkinter.Tk()\n",
    "window.title('Sample')\n",
    "window.geometry('480x480')\n",
    "check = tkinter.Checkbutton(text='Sample', variable='Boolean')\n",
    "check.pack()\n",
    "window.mainloop()"
   ]
  },
  {
   "cell_type": "markdown",
   "metadata": {},
   "source": [
    "### 4.8. Radiobutton\n",
    "- ラジオボタンを作成する\n",
    "- 引数は **(text)**"
   ]
  },
  {
   "cell_type": "code",
   "execution_count": null,
   "metadata": {},
   "outputs": [],
   "source": []
  },
  {
   "cell_type": "markdown",
   "metadata": {},
   "source": [
    "### 4.9. Listbox\n",
    "- 引数は **(listvariable)**"
   ]
  },
  {
   "cell_type": "code",
   "execution_count": null,
   "metadata": {},
   "outputs": [],
   "source": []
  }
 ],
 "metadata": {
  "kernelspec": {
   "display_name": "Python 3.9.6 64-bit ('3.9.6')",
   "language": "python",
   "name": "python3"
  },
  "language_info": {
   "codemirror_mode": {
    "name": "ipython",
    "version": 3
   },
   "file_extension": ".py",
   "mimetype": "text/x-python",
   "name": "python",
   "nbconvert_exporter": "python",
   "pygments_lexer": "ipython3",
   "version": "3.9.6"
  },
  "vscode": {
   "interpreter": {
    "hash": "88d8153ea55c657c54a1263917839600f0a0a81b8d33474af4c72f2286c2229e"
   }
  }
 },
 "nbformat": 4,
 "nbformat_minor": 4
}
