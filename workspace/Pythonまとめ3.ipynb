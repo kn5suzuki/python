{
 "cells": [
  {
   "cell_type": "markdown",
   "metadata": {},
   "source": [
    "# Pythonまとめ.v3"
   ]
  },
  {
   "cell_type": "markdown",
   "metadata": {},
   "source": [
    "## ④予約語\n",
    "- 特別な意味を持つ言葉で、30程度ある\n",
    "- これまで出てきたTrue、False、None、and、or、not、in、is、delは予約語である"
   ]
  },
  {
   "cell_type": "markdown",
   "metadata": {},
   "source": [
    "### 1. if\n",
    "- 条件文を書くときに使う\n",
    "- `if 条件 :` の形で使う\n",
    "- 従属する処理は1tab下げて書き（**コードブロック**）、Trueの時のみ処理が行われる"
   ]
  },
  {
   "cell_type": "code",
   "execution_count": 1,
   "metadata": {},
   "outputs": [
    {
     "name": "stdout",
     "output_type": "stream",
     "text": [
      "aは3の倍数\n"
     ]
    }
   ],
   "source": [
    "a = 3\n",
    "if a % 3 == 0:\n",
    "    print('aは3の倍数')"
   ]
  },
  {
   "cell_type": "markdown",
   "metadata": {},
   "source": [
    "### 1.2. else\n",
    "- ifと一緒に使い、Falseのときの処理を書く"
   ]
  },
  {
   "cell_type": "code",
   "execution_count": 2,
   "metadata": {},
   "outputs": [
    {
     "name": "stdout",
     "output_type": "stream",
     "text": [
      "aは3の倍数でない\n"
     ]
    }
   ],
   "source": [
    "a = 1\n",
    "if a % 3 == 0:\n",
    "    print('aは3の倍数')\n",
    "else:\n",
    "    print('aは3の倍数でない')"
   ]
  },
  {
   "cell_type": "markdown",
   "metadata": {},
   "source": [
    "### 1.3. elif\n",
    "- else ifを省略したもので、条件を追加したいときに使う"
   ]
  },
  {
   "cell_type": "code",
   "execution_count": 3,
   "metadata": {},
   "outputs": [
    {
     "name": "stdout",
     "output_type": "stream",
     "text": [
      "aは3の倍数+2\n"
     ]
    }
   ],
   "source": [
    "a = 11\n",
    "if a % 3 == 0:\n",
    "    print('aは3の倍数')\n",
    "elif a % 3 == 1:\n",
    "    print('aは3の倍数+1')\n",
    "else:\n",
    "    print('aは3の倍数+2')"
   ]
  },
  {
   "cell_type": "markdown",
   "metadata": {},
   "source": [
    "### 2. for\n",
    "- 繰り返しで使う\n",
    "- `for 識別子 in iterableオブジェクト :` の形で使う\n",
    "- 単純な繰り返しではrangeを使うのが一般的\n",
    "- 識別子にはイテラブルオブジェクトの値が順に代入される"
   ]
  },
  {
   "cell_type": "code",
   "execution_count": 4,
   "metadata": {},
   "outputs": [
    {
     "name": "stdout",
     "output_type": "stream",
     "text": [
      "!!"
     ]
    }
   ],
   "source": [
    "for i in range(2):      #5回繰り返す\n",
    "    print('!', end = '')"
   ]
  },
  {
   "cell_type": "code",
   "execution_count": 5,
   "metadata": {},
   "outputs": [
    {
     "name": "stdout",
     "output_type": "stream",
     "text": [
      "1 2 3 "
     ]
    }
   ],
   "source": [
    "l = [1, 2, 3]\n",
    "for i in l:            #iには1，2，3の順で格納される\n",
    "    print(i, end = ' ')"
   ]
  },
  {
   "cell_type": "code",
   "execution_count": 6,
   "metadata": {},
   "outputs": [
    {
     "name": "stdout",
     "output_type": "stream",
     "text": [
      "1 2 3 "
     ]
    }
   ],
   "source": [
    "A = {2, 1, 3}     #setは自動で並び替えられるので扱いにくい\n",
    "for i in A:\n",
    "    print(i, end = ' ')"
   ]
  },
  {
   "cell_type": "code",
   "execution_count": 7,
   "metadata": {},
   "outputs": [
    {
     "name": "stdout",
     "output_type": "stream",
     "text": [
      "one two "
     ]
    }
   ],
   "source": [
    "a = {'one':1, 'two':2}\n",
    "for i in a:\n",
    "    print(i, end = ' ')"
   ]
  },
  {
   "cell_type": "markdown",
   "metadata": {},
   "source": [
    "- リスト内包表記の復習"
   ]
  },
  {
   "cell_type": "code",
   "execution_count": 8,
   "metadata": {},
   "outputs": [
    {
     "data": {
      "text/plain": [
       "[0, 1, 4, 9, 16, 25, 36, 49, 64, 81]"
      ]
     },
     "execution_count": 8,
     "metadata": {},
     "output_type": "execute_result"
    }
   ],
   "source": [
    "[i**2 for i in range(10)]"
   ]
  },
  {
   "cell_type": "code",
   "execution_count": 9,
   "metadata": {},
   "outputs": [
    {
     "data": {
      "text/plain": [
       "[0, 2, 4, 6, 8]"
      ]
     },
     "execution_count": 9,
     "metadata": {},
     "output_type": "execute_result"
    }
   ],
   "source": [
    "[i for i in range(10) if i % 2 == 0]"
   ]
  },
  {
   "cell_type": "markdown",
   "metadata": {},
   "source": [
    "- iterableオブジェクトの中身がリストやタプルのときは、識別子を複数与えることで展開して受け取ることができる"
   ]
  },
  {
   "cell_type": "code",
   "execution_count": 10,
   "metadata": {},
   "outputs": [
    {
     "name": "stdout",
     "output_type": "stream",
     "text": [
      "鈴木一郎さん 佐藤次郎さん "
     ]
    }
   ],
   "source": [
    "full_name = [('鈴木','一郎'), ('佐藤', '次郎')]\n",
    "for first_name, last_name in full_name:\n",
    "    print(f'{first_name}{last_name}さん', end = ' ')"
   ]
  },
  {
   "cell_type": "code",
   "execution_count": 11,
   "metadata": {},
   "outputs": [
    {
     "name": "stdout",
     "output_type": "stream",
     "text": [
      "鈴木一郎さん 佐藤次郎さん "
     ]
    }
   ],
   "source": [
    "full_name = [['鈴木','一郎'], ['佐藤', '次郎']]\n",
    "for first_name, last_name in full_name:\n",
    "    print(f'{first_name}{last_name}さん', end = ' ')"
   ]
  },
  {
   "cell_type": "code",
   "execution_count": 12,
   "metadata": {},
   "outputs": [
    {
     "name": "stdout",
     "output_type": "stream",
     "text": [
      "0th: one, 1th: two, 2th: three, "
     ]
    }
   ],
   "source": [
    "l = ['one', 'two', 'three']\n",
    "for x, y in enumerate(l):\n",
    "    print(f'{x}th: {y}', end = ', ')"
   ]
  },
  {
   "cell_type": "code",
   "execution_count": 13,
   "metadata": {},
   "outputs": [
    {
     "name": "stdout",
     "output_type": "stream",
     "text": [
      "one 1 two 2 "
     ]
    }
   ],
   "source": [
    "a = {'one':1, 'two':2}\n",
    "for i, j in a.items(): #aとするとkeyだけ取り出される\n",
    "    print(i, j, end = ' ')"
   ]
  },
  {
   "cell_type": "markdown",
   "metadata": {},
   "source": [
    "- 行列（多次元リスト）にアクセスする定型文"
   ]
  },
  {
   "cell_type": "code",
   "execution_count": 14,
   "metadata": {},
   "outputs": [
    {
     "name": "stdout",
     "output_type": "stream",
     "text": [
      "1 2 3 4 5 6 "
     ]
    }
   ],
   "source": [
    "l = [[1, 2, 3],[4, 5, 6]]       #2*3行列\n",
    "for i in range(len(l)):\n",
    "    for j in range(len(l[i])):\n",
    "        print(l[i][j], end = ' ')"
   ]
  },
  {
   "cell_type": "markdown",
   "metadata": {},
   "source": [
    "### 3. while\n",
    "- 回数のわからない繰り返しで使う\n",
    "- `while 条件:`の形で使う\n",
    "- True(1を使う場合もある)の間繰り返される"
   ]
  },
  {
   "cell_type": "code",
   "execution_count": 15,
   "metadata": {},
   "outputs": [
    {
     "name": "stdout",
     "output_type": "stream",
     "text": [
      "10\n"
     ]
    }
   ],
   "source": [
    "a = 20      #aの自身を除いた最大の約数を求める\n",
    "i = a - 1\n",
    "while a % i != 0:\n",
    "    i -= 1\n",
    "print(i)"
   ]
  },
  {
   "cell_type": "markdown",
   "metadata": {},
   "source": [
    "### 3.2. break\n",
    "- 強制的にwhileやforから抜ける時に使う"
   ]
  },
  {
   "cell_type": "code",
   "execution_count": 16,
   "metadata": {},
   "outputs": [
    {
     "name": "stdin",
     "output_type": "stream",
     "text": [
      "繰り返します-> こんにちは\n"
     ]
    },
    {
     "name": "stdout",
     "output_type": "stream",
     "text": [
      "こんにちは\n"
     ]
    },
    {
     "name": "stdin",
     "output_type": "stream",
     "text": [
      "繰り返します-> \n"
     ]
    },
    {
     "name": "stdout",
     "output_type": "stream",
     "text": [
      "バイバイ\n"
     ]
    }
   ],
   "source": [
    "while 1:\n",
    "    word = input('繰り返します->')\n",
    "    if word == '':               #入力がなかった時\n",
    "        print('バイバイ')\n",
    "        break\n",
    "    print(word)"
   ]
  },
  {
   "cell_type": "markdown",
   "metadata": {},
   "source": [
    "### 3.3. continue\n",
    "- forやwhileの中でその回では処理を飛ばしたいときに使う"
   ]
  },
  {
   "cell_type": "code",
   "execution_count": 17,
   "metadata": {},
   "outputs": [
    {
     "name": "stdout",
     "output_type": "stream",
     "text": [
      "10より小さい3の倍数は、3と6と9です。\n"
     ]
    }
   ],
   "source": [
    "n = 10\n",
    "print(f'{n}より小さい3の倍数は、', end = '')\n",
    "for i in range(1, n):\n",
    "    if i % 3 != 0:     #3で割り切れない時はここで戻る\n",
    "        continue\n",
    "    print(i, end = 'と')\n",
    "print('\\bです。')"
   ]
  },
  {
   "cell_type": "markdown",
   "metadata": {},
   "source": [
    "### 4. def\n",
    "- 関数を定義するときに使う\n",
    "- `def 関数名(パラメーター) :` の形で使う\n",
    "- パラメーターとは引数の名前"
   ]
  },
  {
   "cell_type": "code",
   "execution_count": 18,
   "metadata": {},
   "outputs": [
    {
     "name": "stdout",
     "output_type": "stream",
     "text": [
      "10\n"
     ]
    }
   ],
   "source": [
    "def add_10(a):\n",
    "    a += 10\n",
    "    print(a)\n",
    "\n",
    "n = 0\n",
    "add_10(n)  #関数にnを引数として渡す"
   ]
  },
  {
   "cell_type": "markdown",
   "metadata": {},
   "source": [
    "- 関数の引数は参照渡しなので、mutableなオブジェクトの扱いは注意が必要"
   ]
  },
  {
   "cell_type": "code",
   "execution_count": 19,
   "metadata": {},
   "outputs": [
    {
     "name": "stdout",
     "output_type": "stream",
     "text": [
      "定義時　　: 1  281472950827312\n",
      "---関数内---\n",
      "引数　　　: 1  281472950827312\n",
      "演算後　　: 11 281472950827632\n",
      "---------\n",
      "関数処理後: 1  281472950827312\n"
     ]
    }
   ],
   "source": [
    "#各段階でのvのidを見てみる\n",
    "\n",
    "def add_10(v):\n",
    "    print(f'引数　　　: {v}  {id(v)}')  #2\n",
    "    v += 10\n",
    "    print(f'演算後　　: {v} {id(v)}')  #3\n",
    "\n",
    "v = 1\n",
    "print(f'定義時　　: {v}  {id(v)}')  #1\n",
    "print('---関数内---')\n",
    "add_10(v)\n",
    "print('---------')\n",
    "print(f'関数処理後: {v}  {id(v)}')  #4"
   ]
  },
  {
   "cell_type": "code",
   "execution_count": 20,
   "metadata": {},
   "outputs": [
    {
     "data": {
      "text/plain": [
       "[10, 1, 2]"
      ]
     },
     "execution_count": 20,
     "metadata": {},
     "output_type": "execute_result"
    }
   ],
   "source": [
    "def change_list(l):\n",
    "    l[0] += 10\n",
    "    \n",
    "l = [0, 1, 2]\n",
    "change_list(l)\n",
    "l"
   ]
  },
  {
   "cell_type": "markdown",
   "metadata": {},
   "source": [
    "### 4.2. return\n",
    "- 関数の戻り値を示す\n",
    "- 戻り値も参照渡し"
   ]
  },
  {
   "cell_type": "code",
   "execution_count": 21,
   "metadata": {},
   "outputs": [
    {
     "name": "stdout",
     "output_type": "stream",
     "text": [
      "関数内:281472950827600\n",
      "関数外:281472950827600\n"
     ]
    }
   ],
   "source": [
    "def new_add_10(a):\n",
    "    b = a + 10\n",
    "    print(f'関数内:{id(b)}')\n",
    "    return b\n",
    "\n",
    "a = 0\n",
    "b = new_add_10(a)  #bに関数の戻り値が代入される\n",
    "print(f'関数外:{id(b)}')"
   ]
  },
  {
   "cell_type": "code",
   "execution_count": 22,
   "metadata": {},
   "outputs": [
    {
     "name": "stdout",
     "output_type": "stream",
     "text": [
      "l1:[10, 1, 2],  l2:[10, 1, 2]\n",
      "l1:[10, 11, 2], l2:[10, 11, 2]\n"
     ]
    }
   ],
   "source": [
    "def new_change_list(l):\n",
    "    l[0] += 10\n",
    "    return l\n",
    "    \n",
    "l1 = [0, 1, 2]\n",
    "l2 = new_change_list(l1)  #l1とl2は同じオブジェクト\n",
    "print(f'l1:{l1},  l2:{l2}')\n",
    "l2[1] = 11                 #l2を変更する\n",
    "print(f'l1:{l1}, l2:{l2}')"
   ]
  },
  {
   "cell_type": "markdown",
   "metadata": {},
   "source": [
    "**戻り値がイテラブルオブジェクトの時**\n",
    "- 関数の戻り値をイテラブルオブジェクトにすると、タプルで受け取るだけでなく、要素をひとつづつ受け取ることもできるため、複数の値を返す関数を作ることができる"
   ]
  },
  {
   "cell_type": "code",
   "execution_count": 23,
   "metadata": {},
   "outputs": [
    {
     "name": "stdout",
     "output_type": "stream",
     "text": [
      "1.6900000000000002 2.197\n"
     ]
    }
   ],
   "source": [
    "def f(x):\n",
    "    return (x**2, x**3)\n",
    "\n",
    "v1, v2 = f(1.3)  #v = f(1.3)じゃなくていい\n",
    "print(v1, v2)"
   ]
  },
  {
   "cell_type": "markdown",
   "metadata": {},
   "source": [
    "**＊関数の引数について**\n",
    "- チェックはされないが、引数に型宣言情報を書いておくこともできる"
   ]
  },
  {
   "cell_type": "code",
   "execution_count": 24,
   "metadata": {},
   "outputs": [
    {
     "data": {
      "text/plain": [
       "2.25"
      ]
     },
     "execution_count": 24,
     "metadata": {},
     "output_type": "execute_result"
    }
   ],
   "source": [
    "def f(x: int) -> int:  #引数と戻り値はともに整数を想定していることを示す\n",
    "    return x**2        #:と->はコメントと同じ扱い\n",
    "\n",
    "f(1.5)  #引数がfloatでも実行できる"
   ]
  },
  {
   "cell_type": "markdown",
   "metadata": {},
   "source": [
    "- 関数実行時に引数の値だけを書くとパラメーターの定義順に代入され、これを**位置引数**という。これに対して、**パラメーター = 値** と指定する方法を**キーワード引数**という\n",
    "- 位置引数とキーワード引数を同時に使うときはキーワード引数を後に書く"
   ]
  },
  {
   "cell_type": "code",
   "execution_count": 25,
   "metadata": {},
   "outputs": [
    {
     "data": {
      "text/plain": [
       "3"
      ]
     },
     "execution_count": 25,
     "metadata": {},
     "output_type": "execute_result"
    }
   ],
   "source": [
    "def f(a, b):\n",
    "    return a + b**2\n",
    "\n",
    "f(b = 1, a = 2)"
   ]
  },
  {
   "cell_type": "markdown",
   "metadata": {},
   "source": [
    "- 引数を渡さない時のデフォルトの値を設定したパラメーターを**デフォルトパラメーター**という\n",
    "- デフォルトパラメータも参照渡しであるため、リストなどのmutableオブジェクトをデフォルトパラメーターとして関数内で書き換えると、呼び出すたびにデフォルトパラメーターが上書きされるので注意が必要"
   ]
  },
  {
   "cell_type": "code",
   "execution_count": 26,
   "metadata": {},
   "outputs": [
    {
     "data": {
      "text/plain": [
       "11"
      ]
     },
     "execution_count": 26,
     "metadata": {},
     "output_type": "execute_result"
    }
   ],
   "source": [
    "def f(a, b = 10):  #デフォルトではnew_add_10\n",
    "    return a + b\n",
    "\n",
    "f(1)"
   ]
  },
  {
   "cell_type": "code",
   "execution_count": 27,
   "metadata": {},
   "outputs": [
    {
     "data": {
      "text/plain": [
       "3"
      ]
     },
     "execution_count": 27,
     "metadata": {},
     "output_type": "execute_result"
    }
   ],
   "source": [
    "def f(a = 1, b = 10):\n",
    "    return a + b\n",
    "\n",
    "f(b = 2)"
   ]
  },
  {
   "cell_type": "code",
   "execution_count": 28,
   "metadata": {},
   "outputs": [
    {
     "name": "stdout",
     "output_type": "stream",
     "text": [
      "['追加']\n",
      "['追加', '追加']\n"
     ]
    }
   ],
   "source": [
    "def f(l = []):\n",
    "    l.append('追加')\n",
    "    return l\n",
    "\n",
    "print(f())\n",
    "print(f())"
   ]
  },
  {
   "cell_type": "markdown",
   "metadata": {},
   "source": [
    "- **\\*パラメーター名** とすると**可変長パラメーター**となり、関数内でタプルとして扱われるようになる"
   ]
  },
  {
   "cell_type": "code",
   "execution_count": 29,
   "metadata": {},
   "outputs": [
    {
     "name": "stdout",
     "output_type": "stream",
     "text": [
      "10\n"
     ]
    }
   ],
   "source": [
    "def add(*num):\n",
    "    sum = 0\n",
    "    for i in num:\n",
    "        sum += i\n",
    "    print(sum)\n",
    "    \n",
    "add(1,2,3,4)  #引数をいくつとっても良い"
   ]
  },
  {
   "cell_type": "code",
   "execution_count": 30,
   "metadata": {},
   "outputs": [
    {
     "name": "stdout",
     "output_type": "stream",
     "text": [
      "(1,)\n"
     ]
    }
   ],
   "source": [
    "def f(*num):\n",
    "    print(num)\n",
    "f(1)"
   ]
  },
  {
   "cell_type": "markdown",
   "metadata": {},
   "source": [
    "- \\*を2つにすると辞書型となる"
   ]
  },
  {
   "cell_type": "code",
   "execution_count": 31,
   "metadata": {},
   "outputs": [
    {
     "name": "stdout",
     "output_type": "stream",
     "text": [
      "{'key1': 1, 'key2': 2}\n"
     ]
    }
   ],
   "source": [
    "def f(**dict):\n",
    "    print(dict)\n",
    "    \n",
    "f(key1 = 1, key2 = 2)"
   ]
  },
  {
   "cell_type": "code",
   "execution_count": 32,
   "metadata": {},
   "outputs": [
    {
     "ename": "TypeError",
     "evalue": "f() takes 0 positional arguments but 1 was given",
     "output_type": "error",
     "traceback": [
      "\u001b[0;31m---------------------------------------------------------------------------\u001b[0m",
      "\u001b[0;31mTypeError\u001b[0m                                 Traceback (most recent call last)",
      "Cell \u001b[0;32mIn[32], line 4\u001b[0m\n\u001b[1;32m      1\u001b[0m \u001b[38;5;28;01mdef\u001b[39;00m \u001b[38;5;21mf\u001b[39m(\u001b[38;5;241m*\u001b[39m\u001b[38;5;241m*\u001b[39m\u001b[38;5;28mdict\u001b[39m):\n\u001b[1;32m      2\u001b[0m     \u001b[38;5;28mprint\u001b[39m(\u001b[38;5;28mdict\u001b[39m)\n\u001b[0;32m----> 4\u001b[0m \u001b[43mf\u001b[49m\u001b[43m(\u001b[49m\u001b[43m[\u001b[49m\u001b[43m[\u001b[49m\u001b[38;5;241;43m1\u001b[39;49m\u001b[43m,\u001b[49m\u001b[38;5;241;43m2\u001b[39;49m\u001b[43m]\u001b[49m\u001b[43m]\u001b[49m\u001b[43m)\u001b[49m\n",
      "\u001b[0;31mTypeError\u001b[0m: f() takes 0 positional arguments but 1 was given"
     ]
    }
   ],
   "source": [
    "def f(**dict):\n",
    "    print(dict)\n",
    "    \n",
    "f([[1,2]])"
   ]
  },
  {
   "cell_type": "markdown",
   "metadata": {},
   "source": [
    "**高階関数**\n",
    "- 関数を引数や戻り値にとる関数\n",
    "- 関数は()をつけると実行されるが、通常は普通にオブジェクトとして扱われる"
   ]
  },
  {
   "cell_type": "code",
   "execution_count": 33,
   "metadata": {},
   "outputs": [
    {
     "data": {
      "text/plain": [
       "3"
      ]
     },
     "execution_count": 33,
     "metadata": {},
     "output_type": "execute_result"
    }
   ],
   "source": [
    "def add(a, b):\n",
    "    return a + b\n",
    "\n",
    "def run(f, a, b):  #高階関数\n",
    "    return f(a, b)\n",
    "\n",
    "run(add, 1, 2)"
   ]
  },
  {
   "cell_type": "markdown",
   "metadata": {},
   "source": [
    "**関数内関数**"
   ]
  },
  {
   "cell_type": "code",
   "execution_count": 34,
   "metadata": {},
   "outputs": [
    {
     "data": {
      "text/plain": [
       "3"
      ]
     },
     "execution_count": 34,
     "metadata": {},
     "output_type": "execute_result"
    }
   ],
   "source": [
    "def f(a, b):\n",
    "    def inner(aa, bb):\n",
    "        return aa + bb\n",
    "    return inner(a, b)\n",
    "    \n",
    "f(1, 2)"
   ]
  },
  {
   "cell_type": "markdown",
   "metadata": {},
   "source": [
    "**クロージャー**\n",
    "- 好きな時に結果を呼び出すことができる\n",
    "- 関数内関数にパラメーターを持たさず、外側の関数の引数を内部で利用する\n",
    "- 返り値は関数内関数のオブジェクト"
   ]
  },
  {
   "cell_type": "code",
   "execution_count": 35,
   "metadata": {},
   "outputs": [],
   "source": [
    "def f(a, b):\n",
    "    def inner():\n",
    "        return a + b\n",
    "    return inner\n",
    "    \n",
    "a = f(1, 2) #この時点では実行されない"
   ]
  },
  {
   "cell_type": "code",
   "execution_count": 36,
   "metadata": {},
   "outputs": [
    {
     "data": {
      "text/plain": [
       "function"
      ]
     },
     "execution_count": 36,
     "metadata": {},
     "output_type": "execute_result"
    }
   ],
   "source": [
    "type(a) #aはinnerオブジェクト"
   ]
  },
  {
   "cell_type": "code",
   "execution_count": 37,
   "metadata": {},
   "outputs": [
    {
     "data": {
      "text/plain": [
       "3"
      ]
     },
     "execution_count": 37,
     "metadata": {},
     "output_type": "execute_result"
    }
   ],
   "source": [
    "a()  #()で呼び出す"
   ]
  },
  {
   "cell_type": "markdown",
   "metadata": {},
   "source": [
    "**デコレーター**\n",
    "- ソースコードを書き換えずに関数を上書きする方法"
   ]
  },
  {
   "cell_type": "code",
   "execution_count": 38,
   "metadata": {},
   "outputs": [
    {
     "name": "stdout",
     "output_type": "stream",
     "text": [
      "3\n",
      "6\n"
     ]
    }
   ],
   "source": [
    "def f(a, b):        #デコレートする関数\n",
    "    return a + b\n",
    "\n",
    "print(f(1,2))\n",
    "\n",
    "def dec(func):\n",
    "    def new_f(a, b, c):       #デコレートの内容\n",
    "        return func(a, b) + c\n",
    "    return new_f\n",
    "\n",
    "f = dec(f)        #実質的な関数書き換え\n",
    "print(f(1, 2, 3))"
   ]
  },
  {
   "cell_type": "markdown",
   "metadata": {},
   "source": [
    "- `f=dec(f)`をしなくても定義時にデコレートされるような表記方法がある"
   ]
  },
  {
   "cell_type": "code",
   "execution_count": 39,
   "metadata": {},
   "outputs": [
    {
     "name": "stdout",
     "output_type": "stream",
     "text": [
      "6\n",
      "3\n"
     ]
    }
   ],
   "source": [
    "def dec(func):\n",
    "    def new_f(a, b, c):\n",
    "        return func(a, b) + c\n",
    "    return new_f\n",
    "\n",
    "@dec   #@デコレータ関数とすることでこの関数をデコレータ関数の引数とした場合の関数が作られる\n",
    "def f1(a, b):\n",
    "    return a + b\n",
    "\n",
    "def f2(a, b):\n",
    "    return a + b\n",
    "\n",
    "print(f1(1, 2, 3)) #f1はデコレートされている\n",
    "print(f2(1, 2))"
   ]
  },
  {
   "cell_type": "markdown",
   "metadata": {},
   "source": [
    "### 4.3. yeild(ジェネレーター)\n",
    "- retuenで値を返す関数とは異なり戻り値はgeneratorという型のオブジェクト\n",
    "- 関数内で状態が保持され、next関数を作用させることでyeild以下の値が返される"
   ]
  },
  {
   "cell_type": "code",
   "execution_count": 40,
   "metadata": {},
   "outputs": [],
   "source": [
    "def rand_val():  #0から1までの乱数生成器\n",
    "    x = 0\n",
    "    a = 1664525\n",
    "    b = 1013904223\n",
    "    c = 4294967296\n",
    "    while True:\n",
    "        xnext = (a*x + b) % c\n",
    "        yield xnext/c   #cで割って正規化した値がnext関数で呼ばれるたびに返される\n",
    "        x = xnext       #値を返したらxを更新し、次の呼び出しに備える"
   ]
  },
  {
   "cell_type": "code",
   "execution_count": 41,
   "metadata": {},
   "outputs": [
    {
     "name": "stdout",
     "output_type": "stream",
     "text": [
      "0.23606797284446657\n",
      "0.278566908556968\n",
      "0.8195337599609047\n",
      "0.6678668977692723\n"
     ]
    }
   ],
   "source": [
    "r = rand_val()      #rはgeneratorという型になる\n",
    "for i in range(4):\n",
    "    print(next(r))"
   ]
  },
  {
   "cell_type": "code",
   "execution_count": 42,
   "metadata": {},
   "outputs": [],
   "source": [
    "def rand_val():  #0から1までの乱数生成器\n",
    "    x = 0\n",
    "    a = 1664525\n",
    "    b = 1013904223\n",
    "    c = 4294967296\n",
    "    while True:\n",
    "        xnext = (a*x + b) % c\n",
    "        print(f'yeild直前')\n",
    "        yield xnext/c    #ここで止まっていることがわかる\n",
    "        print(f'yeild直後')\n",
    "        x = xnext"
   ]
  },
  {
   "cell_type": "code",
   "execution_count": 43,
   "metadata": {},
   "outputs": [
    {
     "name": "stdout",
     "output_type": "stream",
     "text": [
      "yeild直前\n",
      "0.23606797284446657\n",
      "sleep前\n",
      "sleep後\n",
      "yeild直後\n",
      "yeild直前\n",
      "0.278566908556968\n",
      "sleep前\n",
      "sleep後\n",
      "yeild直後\n",
      "yeild直前\n",
      "0.8195337599609047\n",
      "sleep前\n",
      "sleep後\n",
      "yeild直後\n",
      "yeild直前\n",
      "0.6678668977692723\n",
      "sleep前\n",
      "sleep後\n"
     ]
    }
   ],
   "source": [
    "import time\n",
    "\n",
    "r = rand_val()      #rはgeneratorという型になる\n",
    "for i in range(4):\n",
    "    print(next(r))\n",
    "    print('sleep前')\n",
    "    time.sleep(1)\n",
    "    print('sleep後')"
   ]
  },
  {
   "cell_type": "code",
   "execution_count": 44,
   "metadata": {},
   "outputs": [],
   "source": [
    "def rand_val():  #0から1までの乱数生成器\n",
    "    x = 0\n",
    "    a = 1664525\n",
    "    b = 1013904223\n",
    "    c = 4294967296\n",
    "    while True:\n",
    "        xnext = (a*x + b) % c\n",
    "        return xnext/c   #returnならば常に同じ値が返される\n",
    "        x = xnext"
   ]
  },
  {
   "cell_type": "code",
   "execution_count": 45,
   "metadata": {},
   "outputs": [
    {
     "name": "stdout",
     "output_type": "stream",
     "text": [
      "0.23606797284446657\n",
      "0.23606797284446657\n"
     ]
    }
   ],
   "source": [
    "print(rand_val())\n",
    "print(rand_val())"
   ]
  },
  {
   "cell_type": "markdown",
   "metadata": {},
   "source": [
    "### 5. raise\n",
    "- pythonには標準で設定されているいくつかのエラーが存在する"
   ]
  },
  {
   "cell_type": "code",
   "execution_count": 46,
   "metadata": {},
   "outputs": [
    {
     "ename": "SyntaxError",
     "evalue": "invalid syntax (2545498333.py, line 1)",
     "output_type": "error",
     "traceback": [
      "\u001b[0;36m  Cell \u001b[0;32mIn[46], line 1\u001b[0;36m\u001b[0m\n\u001b[0;31m    while True print('python')   #構文エラー\u001b[0m\n\u001b[0m               ^\u001b[0m\n\u001b[0;31mSyntaxError\u001b[0m\u001b[0;31m:\u001b[0m invalid syntax\n"
     ]
    }
   ],
   "source": [
    "while True print('python')   #構文エラー"
   ]
  },
  {
   "cell_type": "code",
   "execution_count": 47,
   "metadata": {},
   "outputs": [
    {
     "ename": "ZeroDivisionError",
     "evalue": "division by zero",
     "output_type": "error",
     "traceback": [
      "\u001b[0;31m---------------------------------------------------------------------------\u001b[0m",
      "\u001b[0;31mZeroDivisionError\u001b[0m                         Traceback (most recent call last)",
      "Cell \u001b[0;32mIn[47], line 1\u001b[0m\n\u001b[0;32m----> 1\u001b[0m \u001b[38;5;241;43m1\u001b[39;49m\u001b[43m \u001b[49m\u001b[38;5;241;43m/\u001b[39;49m\u001b[43m \u001b[49m\u001b[38;5;241;43m0\u001b[39;49m  \u001b[38;5;66;03m#0割り\u001b[39;00m\n",
      "\u001b[0;31mZeroDivisionError\u001b[0m: division by zero"
     ]
    }
   ],
   "source": [
    "1 / 0  #0割り"
   ]
  },
  {
   "cell_type": "code",
   "execution_count": 48,
   "metadata": {},
   "outputs": [
    {
     "ename": "NameError",
     "evalue": "name 'abcde' is not defined",
     "output_type": "error",
     "traceback": [
      "\u001b[0;31m---------------------------------------------------------------------------\u001b[0m",
      "\u001b[0;31mNameError\u001b[0m                                 Traceback (most recent call last)",
      "Cell \u001b[0;32mIn[48], line 1\u001b[0m\n\u001b[0;32m----> 1\u001b[0m \u001b[43mabcde\u001b[49m\u001b[38;5;241m*\u001b[39m\u001b[38;5;241m3\u001b[39m  \u001b[38;5;66;03m#識別子の定義がされてない\u001b[39;00m\n",
      "\u001b[0;31mNameError\u001b[0m: name 'abcde' is not defined"
     ]
    }
   ],
   "source": [
    "abcde*3  #識別子の定義がされてない"
   ]
  },
  {
   "cell_type": "code",
   "execution_count": 49,
   "metadata": {},
   "outputs": [
    {
     "ename": "TypeError",
     "evalue": "can only concatenate str (not \"int\") to str",
     "output_type": "error",
     "traceback": [
      "\u001b[0;31m---------------------------------------------------------------------------\u001b[0m",
      "\u001b[0;31mTypeError\u001b[0m                                 Traceback (most recent call last)",
      "Cell \u001b[0;32mIn[49], line 1\u001b[0m\n\u001b[0;32m----> 1\u001b[0m \u001b[38;5;124;43m'\u001b[39;49m\u001b[38;5;124;43m1\u001b[39;49m\u001b[38;5;124;43m'\u001b[39;49m\u001b[43m \u001b[49m\u001b[38;5;241;43m+\u001b[39;49m\u001b[43m \u001b[49m\u001b[38;5;241;43m1\u001b[39;49m  \u001b[38;5;66;03m#型が不適当\u001b[39;00m\n",
      "\u001b[0;31mTypeError\u001b[0m: can only concatenate str (not \"int\") to str"
     ]
    }
   ],
   "source": [
    "'1' + 1  #型が不適当"
   ]
  },
  {
   "cell_type": "code",
   "execution_count": 50,
   "metadata": {},
   "outputs": [
    {
     "ename": "IndexError",
     "evalue": "list index out of range",
     "output_type": "error",
     "traceback": [
      "\u001b[0;31m---------------------------------------------------------------------------\u001b[0m",
      "\u001b[0;31mIndexError\u001b[0m                                Traceback (most recent call last)",
      "Cell \u001b[0;32mIn[50], line 1\u001b[0m\n\u001b[0;32m----> 1\u001b[0m \u001b[43m[\u001b[49m\u001b[38;5;241;43m1\u001b[39;49m\u001b[43m,\u001b[49m\u001b[43m \u001b[49m\u001b[38;5;241;43m2\u001b[39;49m\u001b[43m,\u001b[49m\u001b[43m \u001b[49m\u001b[38;5;241;43m3\u001b[39;49m\u001b[43m]\u001b[49m\u001b[43m[\u001b[49m\u001b[38;5;241;43m4\u001b[39;49m\u001b[43m]\u001b[49m  \u001b[38;5;66;03m#インデックスが存在しない\u001b[39;00m\n",
      "\u001b[0;31mIndexError\u001b[0m: list index out of range"
     ]
    }
   ],
   "source": [
    "[1, 2, 3][4]  #インデックスが存在しない"
   ]
  },
  {
   "cell_type": "markdown",
   "metadata": {},
   "source": [
    "- raiseを使うことで意図的にエラーを発生させることができる\n",
    "- `raise エラー名(エラー発生時に表示する文字列)` の形で用いる"
   ]
  },
  {
   "cell_type": "code",
   "execution_count": 51,
   "metadata": {},
   "outputs": [],
   "source": [
    "def mean(a):     #リストの平均値を求める\n",
    "    if isinstance(a, list) == False:\n",
    "        raise TypeError('Parameter must be list')  #引数がリストでなければTypeErrorとする\n",
    "    elif len(a) == 0:\n",
    "        raise ValueError('List has no Value')  #リストが空ならばValueErrorとする\n",
    "    else:\n",
    "        s = 0.0\n",
    "        for i in a:\n",
    "            s += i\n",
    "        return s/len(a)"
   ]
  },
  {
   "cell_type": "code",
   "execution_count": 52,
   "metadata": {},
   "outputs": [
    {
     "ename": "TypeError",
     "evalue": "Parameter must be list",
     "output_type": "error",
     "traceback": [
      "\u001b[0;31m---------------------------------------------------------------------------\u001b[0m",
      "\u001b[0;31mTypeError\u001b[0m                                 Traceback (most recent call last)",
      "Cell \u001b[0;32mIn[52], line 2\u001b[0m\n\u001b[1;32m      1\u001b[0m a \u001b[38;5;241m=\u001b[39m (\u001b[38;5;241m1\u001b[39m,\u001b[38;5;241m2\u001b[39m,\u001b[38;5;241m3\u001b[39m)\n\u001b[0;32m----> 2\u001b[0m \u001b[43mmean\u001b[49m\u001b[43m(\u001b[49m\u001b[43ma\u001b[49m\u001b[43m)\u001b[49m   \u001b[38;5;66;03m#aはリストではないのでTypeErrorとなる\u001b[39;00m\n",
      "Cell \u001b[0;32mIn[51], line 3\u001b[0m, in \u001b[0;36mmean\u001b[0;34m(a)\u001b[0m\n\u001b[1;32m      1\u001b[0m \u001b[38;5;28;01mdef\u001b[39;00m \u001b[38;5;21mmean\u001b[39m(a):     \u001b[38;5;66;03m#リストの平均値を求める\u001b[39;00m\n\u001b[1;32m      2\u001b[0m     \u001b[38;5;28;01mif\u001b[39;00m \u001b[38;5;28misinstance\u001b[39m(a, \u001b[38;5;28mlist\u001b[39m) \u001b[38;5;241m==\u001b[39m \u001b[38;5;28;01mFalse\u001b[39;00m:\n\u001b[0;32m----> 3\u001b[0m         \u001b[38;5;28;01mraise\u001b[39;00m \u001b[38;5;167;01mTypeError\u001b[39;00m(\u001b[38;5;124m'\u001b[39m\u001b[38;5;124mParameter must be list\u001b[39m\u001b[38;5;124m'\u001b[39m)  \u001b[38;5;66;03m#引数がリストでなければTypeErrorとする\u001b[39;00m\n\u001b[1;32m      4\u001b[0m     \u001b[38;5;28;01melif\u001b[39;00m \u001b[38;5;28mlen\u001b[39m(a) \u001b[38;5;241m==\u001b[39m \u001b[38;5;241m0\u001b[39m:\n\u001b[1;32m      5\u001b[0m         \u001b[38;5;28;01mraise\u001b[39;00m \u001b[38;5;167;01mValueError\u001b[39;00m(\u001b[38;5;124m'\u001b[39m\u001b[38;5;124mList has no Value\u001b[39m\u001b[38;5;124m'\u001b[39m)  \u001b[38;5;66;03m#リストが空ならばValueErrorとする\u001b[39;00m\n",
      "\u001b[0;31mTypeError\u001b[0m: Parameter must be list"
     ]
    }
   ],
   "source": [
    "a = (1,2,3)\n",
    "mean(a)   #aはリストではないのでTypeErrorとなる"
   ]
  },
  {
   "cell_type": "code",
   "execution_count": 53,
   "metadata": {},
   "outputs": [
    {
     "ename": "ValueError",
     "evalue": "List has no Value",
     "output_type": "error",
     "traceback": [
      "\u001b[0;31m---------------------------------------------------------------------------\u001b[0m",
      "\u001b[0;31mValueError\u001b[0m                                Traceback (most recent call last)",
      "Cell \u001b[0;32mIn[53], line 2\u001b[0m\n\u001b[1;32m      1\u001b[0m a \u001b[38;5;241m=\u001b[39m []\n\u001b[0;32m----> 2\u001b[0m \u001b[43mmean\u001b[49m\u001b[43m(\u001b[49m\u001b[43ma\u001b[49m\u001b[43m)\u001b[49m     \u001b[38;5;66;03m#aは空なのでValueErrorとなる\u001b[39;00m\n",
      "Cell \u001b[0;32mIn[51], line 5\u001b[0m, in \u001b[0;36mmean\u001b[0;34m(a)\u001b[0m\n\u001b[1;32m      3\u001b[0m     \u001b[38;5;28;01mraise\u001b[39;00m \u001b[38;5;167;01mTypeError\u001b[39;00m(\u001b[38;5;124m'\u001b[39m\u001b[38;5;124mParameter must be list\u001b[39m\u001b[38;5;124m'\u001b[39m)  \u001b[38;5;66;03m#引数がリストでなければTypeErrorとする\u001b[39;00m\n\u001b[1;32m      4\u001b[0m \u001b[38;5;28;01melif\u001b[39;00m \u001b[38;5;28mlen\u001b[39m(a) \u001b[38;5;241m==\u001b[39m \u001b[38;5;241m0\u001b[39m:\n\u001b[0;32m----> 5\u001b[0m     \u001b[38;5;28;01mraise\u001b[39;00m \u001b[38;5;167;01mValueError\u001b[39;00m(\u001b[38;5;124m'\u001b[39m\u001b[38;5;124mList has no Value\u001b[39m\u001b[38;5;124m'\u001b[39m)  \u001b[38;5;66;03m#リストが空ならばValueErrorとする\u001b[39;00m\n\u001b[1;32m      6\u001b[0m \u001b[38;5;28;01melse\u001b[39;00m:\n\u001b[1;32m      7\u001b[0m     s \u001b[38;5;241m=\u001b[39m \u001b[38;5;241m0.0\u001b[39m\n",
      "\u001b[0;31mValueError\u001b[0m: List has no Value"
     ]
    }
   ],
   "source": [
    "a = []\n",
    "mean(a)     #aは空なのでValueErrorとなる"
   ]
  },
  {
   "cell_type": "code",
   "execution_count": 54,
   "metadata": {},
   "outputs": [
    {
     "data": {
      "text/plain": [
       "4.666666666666667"
      ]
     },
     "execution_count": 54,
     "metadata": {},
     "output_type": "execute_result"
    }
   ],
   "source": [
    "a = [2,4,8]\n",
    "mean(a)     #aは空なのでValueErrorとなる"
   ]
  },
  {
   "cell_type": "markdown",
   "metadata": {},
   "source": [
    "### 5.2. try, exept, finally"
   ]
  },
  {
   "cell_type": "markdown",
   "metadata": {},
   "source": [
    "- 通常エラーが出ると処理がその時点で止まってしまう\n",
    "- tryとexeptを用いることでエラーが出ることを想定して、エラーが出ても処理を続けることができる\n",
    "- `try: エラーを出しうる処理`　→　`exept 想定されるエラー名: 例外処理`　の形で書く"
   ]
  },
  {
   "cell_type": "code",
   "execution_count": 55,
   "metadata": {},
   "outputs": [
    {
     "name": "stdout",
     "output_type": "stream",
     "text": [
      "Value errorが出ました\n"
     ]
    }
   ],
   "source": [
    "a = []\n",
    "try:\n",
    "    mean(a)           #エラーを出しうる処理\n",
    "except TypeError:\n",
    "    print('Type errorが出ました')\n",
    "except ValueError:\n",
    "    print('Value errorが出ました')\n",
    "else:\n",
    "    print(mean(a))"
   ]
  },
  {
   "cell_type": "markdown",
   "metadata": {},
   "source": [
    "- エラーで設定した文字列を表示する方法"
   ]
  },
  {
   "cell_type": "code",
   "execution_count": 56,
   "metadata": {},
   "outputs": [
    {
     "name": "stdout",
     "output_type": "stream",
     "text": [
      "Parameter must be list\n",
      "ended\n"
     ]
    }
   ],
   "source": [
    "a = (1,2,3)\n",
    "try:\n",
    "    mean(a)           #エラーを出しうる処理\n",
    "except TypeError as e:\n",
    "    print(e)\n",
    "except ValueError:\n",
    "    print('Value errorが出ました')\n",
    "else:\n",
    "    print(mean(a))\n",
    "finally:\n",
    "    print('ended')"
   ]
  },
  {
   "cell_type": "code",
   "execution_count": 57,
   "metadata": {},
   "outputs": [
    {
     "name": "stdout",
     "output_type": "stream",
     "text": [
      "<class 'TypeError'>\n",
      "ended\n"
     ]
    }
   ],
   "source": [
    "a = (1,2,3)\n",
    "try:\n",
    "    mean(a)           #エラーを出しうる処理\n",
    "except TypeError:\n",
    "    print(TypeError)\n",
    "except ValueError:\n",
    "    print('Value errorが出ました')\n",
    "else:\n",
    "    print(mean(a))\n",
    "finally:\n",
    "    print('ended')"
   ]
  },
  {
   "cell_type": "markdown",
   "metadata": {},
   "source": [
    "### 6. lambda\n",
    "- 簡略な関数\n",
    "- パラメーターとその処理(戻り値)だけを書くもので、無名関数とも呼ぶ\n",
    "- `lambda パラメーター（複数でもよい）: 処理` の形で用いる"
   ]
  },
  {
   "cell_type": "code",
   "execution_count": 58,
   "metadata": {},
   "outputs": [
    {
     "data": {
      "text/plain": [
       "100"
      ]
     },
     "execution_count": 58,
     "metadata": {},
     "output_type": "execute_result"
    }
   ],
   "source": [
    "f = lambda x : x**2  #雰囲気は数学の関数 f(x)=x^2 と同じ\n",
    "f(10)"
   ]
  },
  {
   "cell_type": "code",
   "execution_count": 59,
   "metadata": {},
   "outputs": [
    {
     "data": {
      "text/plain": [
       "13"
      ]
     },
     "execution_count": 59,
     "metadata": {},
     "output_type": "execute_result"
    }
   ],
   "source": [
    "f = lambda x, y: x**2 + y**2\n",
    "f(2,3)"
   ]
  },
  {
   "cell_type": "code",
   "execution_count": 60,
   "metadata": {},
   "outputs": [
    {
     "data": {
      "text/plain": [
       "4"
      ]
     },
     "execution_count": 60,
     "metadata": {},
     "output_type": "execute_result"
    }
   ],
   "source": [
    "f = lambda x, y: x + y**2\n",
    "f(y = 2, x = 0)"
   ]
  },
  {
   "cell_type": "markdown",
   "metadata": {},
   "source": [
    "### 7. class\n",
    "- これまでデータ型について扱ってきたが、いわゆる型とはそのクラスのインスタンスであるということである\n",
    "- これまで見てきた組み込み関数や組み込みメソッドは各クラスで定義されており、そのクラスのオブジェクトに対して作用できていたという仕組みである"
   ]
  },
  {
   "cell_type": "markdown",
   "metadata": {},
   "source": [
    "**もっとも単純なクラス**\n",
    "- `class クラス名 :` でクラスの定義をする\n",
    "- その後でそのクラスのインスタンスの構造を定義する\n",
    "- 独自のメソッドを作る\n",
    "\n",
    "＊メソッドを定義するとき、引数には必ず作用対象を取らなければならず、パラメーターとして慣用的にselfが使われているが、その言葉そのものに意味はない。また、メソッドの実行時にはselfを引数にとる必要はない"
   ]
  },
  {
   "cell_type": "code",
   "execution_count": 61,
   "metadata": {},
   "outputs": [],
   "source": [
    "#Personという名前、年齢、身長、体重のデータを持つクラスを作る\n",
    "class Person:\n",
    "    name = \"\"    #初期情報\n",
    "    age = 0\n",
    "    height = 0\n",
    "    weight = 0\n",
    "        \n",
    "    def bmi(self):         #bmiを求めるメソッド。インスタンス.bmi()で呼び出す\n",
    "        h = self.height / 100\n",
    "        return self.weight / h ** 2"
   ]
  },
  {
   "cell_type": "code",
   "execution_count": 62,
   "metadata": {},
   "outputs": [
    {
     "name": "stdout",
     "output_type": "stream",
     "text": [
      "<class '__main__.Person'>\n",
      "19.591836734693878\n"
     ]
    }
   ],
   "source": [
    "p = Person()      #pはPerson型。クラスが実体化したものをインスタンスと呼ぶ\n",
    "p.name = 'Taro'   #pにデータを入れる\n",
    "p.age = 20        #書き換えはできないがcomplex.realのようなもの\n",
    "p.height = 175\n",
    "p.weight = 60\n",
    "\n",
    "print(type(p))\n",
    "print(p.bmi())"
   ]
  },
  {
   "cell_type": "markdown",
   "metadata": {},
   "source": [
    "- 現状Personクラスにはprintのような組み込み関数が使えない"
   ]
  },
  {
   "cell_type": "code",
   "execution_count": 63,
   "metadata": {},
   "outputs": [
    {
     "name": "stdout",
     "output_type": "stream",
     "text": [
      "<__main__.Person object at 0xffff6af72460>\n"
     ]
    }
   ],
   "source": [
    "print(p)"
   ]
  },
  {
   "cell_type": "markdown",
   "metadata": {},
   "source": [
    "- これまで見てきた演算子や組み込み関数と結びついているメソッドを**特殊メソッド**と呼び、定義するときの関数名が決まっている。"
   ]
  },
  {
   "cell_type": "code",
   "execution_count": 64,
   "metadata": {},
   "outputs": [],
   "source": [
    "#改良したPerson2クラス\n",
    "class Person2:\n",
    "    def __init__(self, name, age, height, weight):  #初期化の特殊メソッド\n",
    "        self.name = name                            #complex(1,2)のように使う\n",
    "        self.age = age\n",
    "        self.height = height\n",
    "        self.weight = weight\n",
    "    \n",
    "    def __repr__(self):               #printの特殊メソッド\n",
    "        s = f'Name : {self.name}\\n'\n",
    "        s += f'Age : {self.age}\\n'\n",
    "        s += f'Height : {self.height}\\n'\n",
    "        s += f'Weight : {self.weight}'\n",
    "        return s\n",
    "    def bmi(self):\n",
    "        h = self.height / 100\n",
    "        return self.weight / h ** 2"
   ]
  },
  {
   "cell_type": "code",
   "execution_count": 65,
   "metadata": {},
   "outputs": [
    {
     "name": "stdout",
     "output_type": "stream",
     "text": [
      "Name : Taro\n",
      "Age : 20\n",
      "Height : 175\n",
      "Weight : 60\n"
     ]
    }
   ],
   "source": [
    "p = Person2('Taro', 20, 175, 60)  #初期化\n",
    "print(p)"
   ]
  },
  {
   "cell_type": "markdown",
   "metadata": {},
   "source": [
    "**クラス変数とインスタンス変数について**\n",
    "- Personのようにクラスを定義した直後にメソッドの外で定義した変数を**クラス変数**、Person2のように初期化メソッドの中で定義した変数を**インスタンス変数**といい、両者は違う特性を持つので本来は使い分けされる\n",
    "- インスタンス変数は変更がそのインスタンスのみに適用されるのに対して、クラス変数の変更はそのクラスのインスタンスすべてに適用される"
   ]
  },
  {
   "cell_type": "code",
   "execution_count": 66,
   "metadata": {},
   "outputs": [
    {
     "name": "stdout",
     "output_type": "stream",
     "text": [
      "21 20\n"
     ]
    }
   ],
   "source": [
    "p1 = Person2('Taro', 20, 175, 60)\n",
    "p2 = Person2('Hanako', 20, 155, 45)\n",
    "p1.age = 21\n",
    "print(p1.age, p2.age)"
   ]
  },
  {
   "cell_type": "code",
   "execution_count": 67,
   "metadata": {},
   "outputs": [
    {
     "name": "stdout",
     "output_type": "stream",
     "text": [
      "0\n",
      "21 21\n"
     ]
    }
   ],
   "source": [
    "p1 = Person()\n",
    "print(p1.age)\n",
    "Person.age = 21\n",
    "p2 = Person()\n",
    "print(p1.age, p2.age)"
   ]
  },
  {
   "cell_type": "code",
   "execution_count": 68,
   "metadata": {},
   "outputs": [
    {
     "name": "stdout",
     "output_type": "stream",
     "text": [
      "20\n",
      "20 21\n"
     ]
    }
   ],
   "source": [
    "p1 = Person()\n",
    "p1.age = 20   #再定義していれば参照元が変わるので変わらない\n",
    "print(p1.age)\n",
    "Person.age = 21\n",
    "p2 = Person()\n",
    "print(p1.age, p2.age)"
   ]
  },
  {
   "cell_type": "markdown",
   "metadata": {},
   "source": [
    "- クラス内部でクラス変数にアクセスするときは、**インスタンス(self) . \\_\\_class\\_\\_ . 変数名** とするとクラス名を変更したときのトラブルを防げる"
   ]
  },
  {
   "cell_type": "markdown",
   "metadata": {},
   "source": [
    "**クラスメソッドとインスタンスメソッド**\n",
    "- クラスのインスタンスに対して作用させるメソッドを**インスタンスメソッド**といい、クラスオブジェクトに対して作用させるメソッドを**クラスメソッド**という\n",
    "- クラスメソッドではクラス変数しか利用できない\n",
    "- クラスメソッドを定義する直前にデコーダーが必要"
   ]
  },
  {
   "cell_type": "code",
   "execution_count": 69,
   "metadata": {},
   "outputs": [],
   "source": [
    "class Greet:\n",
    "    word = 'こんにちは'\n",
    "    def __init__(self, name):\n",
    "        self.name = name\n",
    "    def __repr__(self):\n",
    "        s = f'{self.name}さん、{self.__class__.word}。'\n",
    "        return s\n",
    "    @classmethod\n",
    "    def f(cls):\n",
    "        print(f'{cls.word}。')"
   ]
  },
  {
   "cell_type": "code",
   "execution_count": 70,
   "metadata": {},
   "outputs": [
    {
     "name": "stdout",
     "output_type": "stream",
     "text": [
      "こんにちは。\n"
     ]
    }
   ],
   "source": [
    "Greet.f()  #インスタンスがなくても呼び出せる"
   ]
  },
  {
   "cell_type": "code",
   "execution_count": 71,
   "metadata": {},
   "outputs": [
    {
     "name": "stdout",
     "output_type": "stream",
     "text": [
      "太郎さん、こんにちは。\n"
     ]
    }
   ],
   "source": [
    "s = Greet('太郎')\n",
    "print(s)"
   ]
  },
  {
   "cell_type": "markdown",
   "metadata": {},
   "source": [
    "### ＊特殊メソッド\n",
    "1. \\_\\_new\\_\\_　　インスタンス生成\n",
    "1. \\_\\_init\\_\\_　　初期化\n",
    "2. \\_\\_repr\\_\\_　　print関数\n",
    "\n",
    "算術演算子\n",
    "\n",
    "3. \\_\\_add\\_\\_　　+演算子\n",
    "4. \\_\\_sub\\_\\_　　-演算子\n",
    "5. \\_\\_mul\\_\\_　　\\*演算子\n",
    "6. \\_\\_truediv\\_\\_　　/演算子\n",
    "7. \\_\\_floordiv\\_\\_　　//演算子\n",
    "8. \\_\\_iadd\\_\\_　　+=演算子\n",
    "9. \\_\\_isub\\_\\_　　-=演算子\n",
    "\n",
    "ビット演算子\n",
    "\n",
    "10. \\_\\_and\\_\\_　　&演算子\n",
    "11. \\_\\_or\\_\\_　　|演算子\n",
    "\n",
    "比較演算子\n",
    "\n",
    "12. \\_\\_eq\\_\\_　　==演算子\n",
    "13. \\_\\_ne\\_\\_　　!=演算子\n",
    "14. \\_\\_lt\\_\\_　　<演算子\n",
    "15. \\_\\_gt\\_\\_　　>演算子\n",
    "\n",
    "型変換\n",
    "\n",
    "16. \\_\\_int\\_\\_　　int関数\n",
    "17. \\_\\_float\\_\\_　　float関数\n",
    "18. \\_\\_str\\_\\_　　str関数、format関数、print関数\n",
    "19. \\_\\_format\\_\\_　　formatメソッド\n",
    "\n",
    "コンテナ型（複数の要素を持つもの）\n",
    "\n",
    "20. \\_\\_len\\_\\_　　len関数\n",
    "21. \\_\\_getitem\\_\\_　　ブラケット\n",
    "22. \\_\\_setitem\\_\\_\n",
    "23. \\_\\_delitem\\_\\_　　del\n",
    "24. \\_\\_conteins\\_\\_　　in\n",
    "\n",
    "辞書型\n",
    "\n",
    "25. \\_\\_hash\\_\\_　　hash"
   ]
  },
  {
   "cell_type": "markdown",
   "metadata": {},
   "source": [
    "reprとstrの違い"
   ]
  },
  {
   "cell_type": "markdown",
   "metadata": {},
   "source": [
    "**ミュータブルなクラスとイミュータブルなクラス**\n",
    "- 関数の返り値を工夫することで、ミュータブルとイミュータブルを変えることができる\n",
    "- 基本的にイミュータブルなクラスを作った方が無難"
   ]
  },
  {
   "cell_type": "code",
   "execution_count": 72,
   "metadata": {},
   "outputs": [],
   "source": [
    "class Mutable_val:\n",
    "    def __init__(self, val):\n",
    "        self.val = val\n",
    "    def __repr__(self):\n",
    "        return f'{self.val}'\n",
    "    def add(self, a):\n",
    "        self.val += a"
   ]
  },
  {
   "cell_type": "code",
   "execution_count": 73,
   "metadata": {},
   "outputs": [],
   "source": [
    "class Immutable_val:\n",
    "    def __init__(self, val):\n",
    "        self.val = val\n",
    "    def __repr__(self):\n",
    "        return f'{self.val}'\n",
    "    def add(self, a):\n",
    "        return Immutable_val(self.val + a)  #新たなインスタンスを返す"
   ]
  },
  {
   "cell_type": "code",
   "execution_count": 74,
   "metadata": {},
   "outputs": [
    {
     "name": "stdout",
     "output_type": "stream",
     "text": [
      "2 1\n"
     ]
    }
   ],
   "source": [
    "v1 = Mutable_val(1)\n",
    "v2 = Immutable_val(1)\n",
    "v1.add(1)\n",
    "v2.add(1)\n",
    "print(v1, v2)"
   ]
  },
  {
   "cell_type": "markdown",
   "metadata": {},
   "source": [
    "**クラスの継承**\n",
    "- 既存のクラスを引き継いだ新たなクラスを作る。継承元を**スーパークラス**、新しいクラスを**サブクラス**という\n",
    "- **class 新しいクラス名(既存のクラス名):** で定義する\n",
    "- スーパークラスのメソッドを利用でき、上書きもできる\n",
    "- **super().メソッド名** で呼び出す"
   ]
  },
  {
   "cell_type": "code",
   "execution_count": 75,
   "metadata": {},
   "outputs": [],
   "source": [
    "#Person2にIDのデータを加えたStudentというクラスを作る\n",
    "class Student(Person2):\n",
    "    def __init__(self, name, age, height, weight, ID):\n",
    "        super().__init__(name, age, height, weight)\n",
    "        self.id = ID\n",
    "    def __repr__(self):\n",
    "        s = super().__repr__() + '\\n'\n",
    "        s += f'ID : {self.id}'\n",
    "        return s"
   ]
  },
  {
   "cell_type": "code",
   "execution_count": 76,
   "metadata": {},
   "outputs": [
    {
     "name": "stdout",
     "output_type": "stream",
     "text": [
      "<class '__main__.Student'>\n",
      "Name : Taro\n",
      "Age : 20\n",
      "Height : 175\n",
      "Weight : 60\n",
      "ID : 1234\n",
      "19.59\n"
     ]
    }
   ],
   "source": [
    "s = Student('Taro', 20, 175, 60, 1234)\n",
    "print(type(s))\n",
    "print(s)\n",
    "print(f'{s.bmi():.2f}')  #Person2クラスのbmiメソッドが使える"
   ]
  },
  {
   "cell_type": "markdown",
   "metadata": {},
   "source": [
    "**＊補足**\n",
    "- Pythonのすべての関数は自動的にobjectクラスのサブクラスとなっている\n",
    "- Personクラスは **class クラス名** と定義したが、明示的に **class クラス名(object)** と表記する場合もある"
   ]
  },
  {
   "cell_type": "markdown",
   "metadata": {},
   "source": [
    "**作成したクラスのインスタンスを辞書のkeyとして利用したいとき**\n",
    "- 先述の通り、辞書型ではkeyの重複は許されず、ハッシュ値を利用して追加するkeyが既に存在しないかを調べているため、クラスで**\\_\\_hash\\_\\_**と**\\_\\_eq\\_\\_**が定義されている必要がある"
   ]
  },
  {
   "cell_type": "code",
   "execution_count": 77,
   "metadata": {},
   "outputs": [
    {
     "data": {
      "text/plain": [
       "'1+2i'"
      ]
     },
     "execution_count": 77,
     "metadata": {},
     "output_type": "execute_result"
    }
   ],
   "source": [
    "class Complex:\n",
    "    def __init__(self, re, im):\n",
    "        self.re = re\n",
    "        self.im = im\n",
    "    def __str__(self):\n",
    "        return f'{self.re}+{self.im}i'\n",
    "    def __hash__(self):\n",
    "        return self.re + self.im\n",
    "    def __eq__(self, other):\n",
    "        return self.re == other.re and self.im == other.im\n",
    "\n",
    "a = {Complex(1, 2):'1+2i',Complex(1,3):'1+3i'}\n",
    "a[Complex(1,2)]"
   ]
  },
  {
   "cell_type": "markdown",
   "metadata": {},
   "source": [
    "**カプセル化**\n",
    "- クラスの変数やメソッドを外部から変更されたくない時に行う操作を**カプセル化(隠ぺい)**という\n",
    "- 隠ぺいしたい変数名やメソッド名の前に**\\_\\_**をつければよい"
   ]
  },
  {
   "cell_type": "code",
   "execution_count": 78,
   "metadata": {},
   "outputs": [],
   "source": [
    "#Person2で名前とbmiの計算法を隠ぺいしたPerson3\n",
    "class Person3:\n",
    "    def __init__(self, age, height, weight, name = ''):\n",
    "        self.__name = name\n",
    "        self.age = age\n",
    "        self.height = height\n",
    "        self.weight = weight\n",
    "    \n",
    "    def __repr__(self):\n",
    "        s = f'Name : {self.name}\\n'\n",
    "        s += f'Age : {self.age}\\n'\n",
    "        s += f'Height : {self.height}\\n'\n",
    "        s += f'Weight : {self.weight}'\n",
    "        return s\n",
    "    def __get_bmi(self):\n",
    "        h = self.height / 100\n",
    "        return self.weight / h ** 2\n",
    "    def bmi(self, func = __get_bmi):\n",
    "        return self.__get_bmi()"
   ]
  },
  {
   "cell_type": "code",
   "execution_count": 79,
   "metadata": {},
   "outputs": [
    {
     "name": "stdout",
     "output_type": "stream",
     "text": [
      "20\n"
     ]
    },
    {
     "ename": "AttributeError",
     "evalue": "'Person3' object has no attribute '__name'",
     "output_type": "error",
     "traceback": [
      "\u001b[0;31m---------------------------------------------------------------------------\u001b[0m",
      "\u001b[0;31mAttributeError\u001b[0m                            Traceback (most recent call last)",
      "Cell \u001b[0;32mIn[79], line 3\u001b[0m\n\u001b[1;32m      1\u001b[0m p \u001b[38;5;241m=\u001b[39m Person3(\u001b[38;5;241m20\u001b[39m, \u001b[38;5;241m172\u001b[39m, \u001b[38;5;241m65\u001b[39m)\n\u001b[1;32m      2\u001b[0m \u001b[38;5;28mprint\u001b[39m(p\u001b[38;5;241m.\u001b[39mage)\n\u001b[0;32m----> 3\u001b[0m \u001b[38;5;28mprint\u001b[39m(\u001b[43mp\u001b[49m\u001b[38;5;241;43m.\u001b[39;49m\u001b[43m__name\u001b[49m)  \u001b[38;5;66;03m#名前にはアクセスできない\u001b[39;00m\n",
      "\u001b[0;31mAttributeError\u001b[0m: 'Person3' object has no attribute '__name'"
     ]
    }
   ],
   "source": [
    "p = Person3(20, 172, 65)\n",
    "print(p.age)\n",
    "print(p.__name)  #名前にはアクセスできない"
   ]
  },
  {
   "cell_type": "code",
   "execution_count": 80,
   "metadata": {},
   "outputs": [
    {
     "ename": "AttributeError",
     "evalue": "'Person3' object has no attribute '__get_bmi'",
     "output_type": "error",
     "traceback": [
      "\u001b[0;31m---------------------------------------------------------------------------\u001b[0m",
      "\u001b[0;31mAttributeError\u001b[0m                            Traceback (most recent call last)",
      "Cell \u001b[0;32mIn[80], line 2\u001b[0m\n\u001b[1;32m      1\u001b[0m p\u001b[38;5;241m.\u001b[39mbmi()\n\u001b[0;32m----> 2\u001b[0m \u001b[43mp\u001b[49m\u001b[38;5;241;43m.\u001b[39;49m\u001b[43m__get_bmi\u001b[49m() \u001b[38;5;66;03m#get_bmiにはアクセスできない\u001b[39;00m\n",
      "\u001b[0;31mAttributeError\u001b[0m: 'Person3' object has no attribute '__get_bmi'"
     ]
    }
   ],
   "source": [
    "p.bmi()\n",
    "p.__get_bmi() #get_bmiにはアクセスできない"
   ]
  },
  {
   "cell_type": "markdown",
   "metadata": {},
   "source": [
    "**プロパティ**\n",
    "- このままでは名前を設定することもできなくて不便\n",
    "- 隠ぺいした変数に値をセットしたり、値を取得するための関数をそれぞれ**セッター**、**ゲッター**と呼び、これらをクラス内で定義することで変数へのアクセスが可能になる\n",
    "- セッターは **set_変数名(self, パラメーター)** 、ゲッターは **get_変数名(self)** とする\n",
    "- ゲッターやセッターを利用して変数にアクセスするためには**プロパティ**が必要となる\n",
    "- プロパティは組み込み関数propertyから得られる\n",
    "- プロパティはクラス内で **プロパティ名 = property(ゲッター、セッター)** として作る。セッターはなくても良く、この場合は変数の値を取得はできるが設定はできなくなる\n",
    "- 外部から変数にアクセスするときは **インスタンス名 . プロパティ名** で値を取得し、**インスタンス名 . プロパティ名 = 値** で値をセットできる"
   ]
  },
  {
   "cell_type": "code",
   "execution_count": 81,
   "metadata": {},
   "outputs": [],
   "source": [
    "class Person4:\n",
    "    def __init__(self, age, height, weight, name = ''):\n",
    "        self.__name = name\n",
    "        self.age = age\n",
    "        self.height = height\n",
    "        self.weight = weight\n",
    "    \n",
    "    def __repr__(self):\n",
    "        s = f'Name : {self.name}\\n'\n",
    "        s += f'Age : {self.age}\\n'\n",
    "        s += f'Height : {self.height}\\n'\n",
    "        s += f'Weight : {self.weight}'\n",
    "        return s\n",
    "    def __get_bmi(self):\n",
    "        h = self.height / 100\n",
    "        return self.weight / h ** 2\n",
    "    def bmi(self, func = __get_bmi):\n",
    "        return self.__get_bmi()\n",
    "    def get_name(self):\n",
    "        return self.__name\n",
    "    def set_name(self, name):\n",
    "        self.__name = name\n",
    "    name = property(get_name, set_name)"
   ]
  },
  {
   "cell_type": "code",
   "execution_count": 82,
   "metadata": {},
   "outputs": [
    {
     "data": {
      "text/plain": [
       "'Taro'"
      ]
     },
     "execution_count": 82,
     "metadata": {},
     "output_type": "execute_result"
    }
   ],
   "source": [
    "p = Person4(20, 172, 65)\n",
    "p.name = 'Taro'          #このnameはプロパティ\n",
    "p.name"
   ]
  },
  {
   "cell_type": "markdown",
   "metadata": {},
   "source": [
    "### 8. import\n",
    "- 関数やクラスをまとめたものを**モジュール**といい、拡張子.pyのファイルにしておき、必要な時に読み込む\n",
    "- モジュールをいくつかまとめたものを**パッケージ**と呼び、パッケージをまとめてインストールできるようにしたものを**ライブラリ**と呼ぶ\n",
    "- importはモジュールやライブラリを読み込むために使う\n",
    "- **import ライブラリ名またはモジュール名(複数でもよい)** とすると、それ以降インポートしたライブラリやモジュールの関数などを自由に使うことができる\n",
    "- ライブラリ名やモジュール名に拡張子は必要ない\n",
    "- インポートしたモジュールやライブラリのインスタンスは自動的に同じ名前で生成され、モジュールやライブラリのメソッドは **モジュール名またはライブラリ名 . 関数名(引数)** の形で使える"
   ]
  },
  {
   "cell_type": "code",
   "execution_count": 83,
   "metadata": {},
   "outputs": [
    {
     "data": {
      "text/plain": [
       "0.0"
      ]
     },
     "execution_count": 83,
     "metadata": {},
     "output_type": "execute_result"
    }
   ],
   "source": [
    "import math  #標準mathモジュールをインポート\n",
    "math.sin(0)   #math."
   ]
  },
  {
   "cell_type": "code",
   "execution_count": 84,
   "metadata": {},
   "outputs": [
    {
     "ename": "NameError",
     "evalue": "name 'sample_func' is not defined",
     "output_type": "error",
     "traceback": [
      "\u001b[0;31m---------------------------------------------------------------------------\u001b[0m",
      "\u001b[0;31mNameError\u001b[0m                                 Traceback (most recent call last)",
      "Cell \u001b[0;32mIn[84], line 2\u001b[0m\n\u001b[1;32m      1\u001b[0m \u001b[38;5;28;01mimport\u001b[39;00m \u001b[38;5;21;01msample\u001b[39;00m  \u001b[38;5;66;03m#自作モジュールをインポート\u001b[39;00m\n\u001b[0;32m----> 2\u001b[0m \u001b[43msample_func\u001b[49m(\u001b[38;5;241m2\u001b[39m)\n",
      "\u001b[0;31mNameError\u001b[0m: name 'sample_func' is not defined"
     ]
    }
   ],
   "source": [
    "import sample  #自作モジュールをインポート\n",
    "sample_func(2)"
   ]
  },
  {
   "cell_type": "markdown",
   "metadata": {},
   "source": [
    "### 8.2. as\n",
    "- インポートしたライブラリやモジュールに別名をつけるために使う\n",
    "- **import ライブラリ名またはモジュール名 as 別名** とするとインスタンス名がその別名となる"
   ]
  },
  {
   "cell_type": "code",
   "execution_count": 85,
   "metadata": {},
   "outputs": [],
   "source": [
    "import numpy as np   #慣用的に使われる"
   ]
  },
  {
   "cell_type": "markdown",
   "metadata": {},
   "source": [
    "### 8.3 from\n",
    "- モジュールから単独のオブジェクトをインポートするときに使う\n",
    "- 関数オブジェクトを読み込むのが普通\n",
    "- **from モジュール名 import オブジェクト名** とする\n",
    "- インポートしたオブジェクトはオブジェクト名だけで使える"
   ]
  },
  {
   "cell_type": "code",
   "execution_count": 86,
   "metadata": {},
   "outputs": [
    {
     "data": {
      "text/plain": [
       "0.0"
      ]
     },
     "execution_count": 86,
     "metadata": {},
     "output_type": "execute_result"
    }
   ],
   "source": [
    "from math import sin\n",
    "sin(0)"
   ]
  },
  {
   "cell_type": "code",
   "execution_count": null,
   "metadata": {},
   "outputs": [],
   "source": []
  }
 ],
 "metadata": {
  "kernelspec": {
   "display_name": "Python 3 (ipykernel)",
   "language": "python",
   "name": "python3"
  },
  "language_info": {
   "codemirror_mode": {
    "name": "ipython",
    "version": 3
   },
   "file_extension": ".py",
   "mimetype": "text/x-python",
   "name": "python",
   "nbconvert_exporter": "python",
   "pygments_lexer": "ipython3",
   "version": "3.9.7"
  },
  "vscode": {
   "interpreter": {
    "hash": "88d8153ea55c657c54a1263917839600f0a0a81b8d33474af4c72f2286c2229e"
   }
  }
 },
 "nbformat": 4,
 "nbformat_minor": 4
}
